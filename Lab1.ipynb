{
  "nbformat": 4,
  "nbformat_minor": 0,
  "metadata": {
    "colab": {
      "provenance": [],
      "authorship_tag": "ABX9TyOJaVqsASD3jNshtgijHHW9",
      "include_colab_link": true
    },
    "kernelspec": {
      "name": "python3",
      "display_name": "Python 3"
    },
    "language_info": {
      "name": "python"
    }
  },
  "cells": [
    {
      "cell_type": "markdown",
      "metadata": {
        "id": "view-in-github",
        "colab_type": "text"
      },
      "source": [
        "<a href=\"https://colab.research.google.com/github/jklayhew/DATA-433/blob/main/Lab1.ipynb\" target=\"_parent\"><img src=\"https://colab.research.google.com/assets/colab-badge.svg\" alt=\"Open In Colab\"/></a>"
      ]
    },
    {
      "cell_type": "code",
      "execution_count": 29,
      "metadata": {
        "colab": {
          "base_uri": "https://localhost:8080/"
        },
        "id": "Z6y75CKD5hcN",
        "outputId": "2dac500b-5e03-49b6-c42e-4bc529010aaf"
      },
      "outputs": [
        {
          "output_type": "execute_result",
          "data": {
            "text/plain": [
              "6336"
            ]
          },
          "metadata": {},
          "execution_count": 29
        }
      ],
      "source": [
        "import numpy as np\n",
        "import pandas as pd \n",
        "import matplotlib.pyplot as plt\n",
        "data = pd.read_csv(\"https://raw.githubusercontent.com/jklayhew/DATA-433/main/amazon_co-ecommerce_sample.csv\")\n",
        "#  clean data\n",
        "# data.dropna(inplace=True)\n",
        "\n",
        "# prints data\n",
        "# data\n",
        "###################################\n",
        "# find infor about columns\n",
        "# data.info()\n",
        "###################################\n",
        "# get unique statuses\n",
        "# data.status.unique()\n",
        "###################################\n",
        "# Euclidian distance between price and average_review_rating_of_5 = 3885.1599853030507\n",
        "# ar1 = np.array((data.price))\n",
        "# ar2 = np.array((data.average_review_rating_of_5))\n",
        "  \n",
        "# print(\"Array 1:\")\n",
        "# print(ar1)\n",
        "  \n",
        "# print(\"Array 2:\")\n",
        "# print(ar2)\n",
        "\n",
        "# dist = np.linalg.norm(ar1 - ar2)\n",
        "  \n",
        "# # printing Euclidean distance\n",
        "# print(\"Euclidean distance between price and average_review_rating is:\", dist)\n",
        "###################################\n",
        "\n",
        "# Euclidian distance between number_of_reviews and average_review_rating_of_5 = 3162.001223908682\n",
        "\n",
        "# ar3 = np.array((data.number_of_reviews))\n",
        "# ar4 = np.array((data.average_review_rating_of_5))\n",
        "  \n",
        "# print(\"Array 3:\")\n",
        "# print(ar3)\n",
        "  \n",
        "# print(\"Array 4:\")\n",
        "# print(ar4)\n",
        "\n",
        "# dist = np.linalg.norm(ar3 - ar4)\n",
        "  \n",
        "# # printing Euclidean distance\n",
        "# print(\"Euclidean distance between number_of_reviews and average_review_rating is:\", dist)\n",
        "###################################\n",
        "\n",
        "# Euclidian distance of average_review_rating_of_5 = 373.8868010507994\n",
        "\n",
        "# ar5 = np.array((data.average_review_rating_of_5))\n",
        "  \n",
        "# print(\"Array 5:\")\n",
        "# print(ar5)\n",
        "\n",
        "# dist = np.linalg.norm(ar5)\n",
        "  \n",
        "# # printing Euclidean distance\n",
        "# print(\"Euclidean distance of average_review_rating is:\", dist)\n",
        "###################################\n",
        "\n",
        "# finds number of complete rows\n",
        "# len(data)\n",
        "###################################\n",
        "\n",
        "# command to produce boxplot diagram\n",
        "# data.boxplot(column='average_review_rating_of_5',by='status')\n",
        "###################################\n",
        "\n",
        "# average of the price column\n",
        "# p_avg = data[\"price\"].mean()\n",
        "\n",
        "# print(p_avg)\n",
        "###################################\n",
        "\n",
        "# What does the command data.describe() show you?\n",
        "\n",
        "# data.describe() \n",
        "\n",
        "# Description of the data in the df\n",
        "###################################\n",
        "\n",
        "# How many columns with string values does the dataset contain?\n",
        "\n",
        "# data.describe()\n",
        "\n"
      ]
    }
  ]
}